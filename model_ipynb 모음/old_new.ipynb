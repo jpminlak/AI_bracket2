{
 "cells": [
  {
   "cell_type": "code",
   "execution_count": 1,
   "id": "022ca3d6",
   "metadata": {},
   "outputs": [],
   "source": [
    "import tensorflow as tf"
   ]
  },
  {
   "cell_type": "code",
   "execution_count": 4,
   "id": "37b06c8c",
   "metadata": {},
   "outputs": [],
   "source": [
    "# 기존 모델 파일 경로를 정확히 지정하세요.\n",
    "old_model_path = 'model/model_efB0.h5' \n",
    "# 새로운 모델 파일 경로\n",
    "new_model_path = 'model_efB0_for_local.h5'"
   ]
  },
  {
   "cell_type": "code",
   "execution_count": 5,
   "id": "c8cba1bb",
   "metadata": {},
   "outputs": [
    {
     "name": "stdout",
     "output_type": "stream",
     "text": [
      "❌ 모델 처리 중 오류 발생: Shape mismatch in layer #1 (named stem_conv)for weight stem_conv/kernel. Weight expects shape (3, 3, 1, 32). Received saved weight with shape (3, 3, 3, 32)\n"
     ]
    }
   ],
   "source": [
    "try:\n",
    "    # 기존 모델 로드\n",
    "    model = tf.keras.models.load_model(old_model_path)\n",
    "    print(\"✅ 모델이 성공적으로 로드되었습니다.\")\n",
    "    \n",
    "    # 새로운 파일로 다시 저장\n",
    "    model.save(new_model_path)\n",
    "    print(f\"✅ 모델이 '{new_model_path}' 파일로 성공적으로 다시 저장되었습니다.\")\n",
    "\n",
    "except Exception as e:\n",
    "    print(f\"❌ 모델 처리 중 오류 발생: {e}\")"
   ]
  },
  {
   "cell_type": "code",
   "execution_count": null,
   "id": "26c16718",
   "metadata": {},
   "outputs": [],
   "source": []
  }
 ],
 "metadata": {
  "kernelspec": {
   "display_name": ".venv",
   "language": "python",
   "name": "python3"
  },
  "language_info": {
   "codemirror_mode": {
    "name": "ipython",
    "version": 3
   },
   "file_extension": ".py",
   "mimetype": "text/x-python",
   "name": "python",
   "nbconvert_exporter": "python",
   "pygments_lexer": "ipython3",
   "version": "3.10.6"
  }
 },
 "nbformat": 4,
 "nbformat_minor": 5
}
