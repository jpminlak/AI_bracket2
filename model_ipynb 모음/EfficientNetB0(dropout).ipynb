{
  "cells": [
    {
      "cell_type": "code",
      "execution_count": null,
      "metadata": {
        "execution": {
          "iopub.execute_input": "2025-08-22T05:31:03.535846Z",
          "iopub.status.busy": "2025-08-22T05:31:03.535580Z",
          "iopub.status.idle": "2025-08-22T05:31:03.539932Z",
          "shell.execute_reply": "2025-08-22T05:31:03.539195Z",
          "shell.execute_reply.started": "2025-08-22T05:31:03.535826Z"
        },
        "trusted": true,
        "id": "ffmUDBoqiQ9h"
      },
      "outputs": [],
      "source": [
        "import tensorflow as tf\n",
        "from tensorflow import keras\n",
        "from tensorflow.keras.preprocessing import image_dataset_from_directory\n",
        "from tensorflow.keras.applications import EfficientNetB0\n",
        "from tensorflow.keras.models import Model\n",
        "from tensorflow.keras.layers import Dense, GlobalAveragePooling2D\n",
        "import matplotlib.pyplot as plt\n",
        "import numpy as np\n",
        "import kagglehub"
      ]
    },
    {
      "cell_type": "code",
      "execution_count": null,
      "metadata": {
        "execution": {
          "iopub.execute_input": "2025-08-22T05:28:50.292071Z",
          "iopub.status.busy": "2025-08-22T05:28:50.291891Z",
          "iopub.status.idle": "2025-08-22T05:28:50.450281Z",
          "shell.execute_reply": "2025-08-22T05:28:50.449673Z",
          "shell.execute_reply.started": "2025-08-22T05:28:50.292056Z"
        },
        "trusted": true,
        "id": "yPO_1jb2iQ9k"
      },
      "outputs": [],
      "source": [
        "path = kagglehub.dataset_download(\"kmader/food41\")\n",
        "print(\"Path to dataset files:\", path)"
      ]
    },
    {
      "cell_type": "code",
      "execution_count": null,
      "metadata": {
        "execution": {
          "iopub.execute_input": "2025-08-22T05:28:53.048315Z",
          "iopub.status.busy": "2025-08-22T05:28:53.047750Z",
          "iopub.status.idle": "2025-08-22T05:28:53.051522Z",
          "shell.execute_reply": "2025-08-22T05:28:53.050817Z",
          "shell.execute_reply.started": "2025-08-22T05:28:53.048293Z"
        },
        "trusted": true,
        "id": "QzQ5XXS7iQ9l"
      },
      "outputs": [],
      "source": [
        "IMG_SIZE = (224, 224)\n",
        "BATCH_SIZE = 32"
      ]
    },
    {
      "cell_type": "code",
      "execution_count": null,
      "metadata": {
        "execution": {
          "iopub.execute_input": "2025-08-22T05:29:43.292077Z",
          "iopub.status.busy": "2025-08-22T05:29:43.291785Z",
          "iopub.status.idle": "2025-08-22T05:30:17.998876Z",
          "shell.execute_reply": "2025-08-22T05:30:17.998098Z",
          "shell.execute_reply.started": "2025-08-22T05:29:43.292030Z"
        },
        "trusted": true,
        "id": "oZHOC7t1iQ9m"
      },
      "outputs": [],
      "source": [
        "train_ds2 = image_dataset_from_directory(\n",
        "    f\"{path}/images\",\n",
        "    labels='inferred',\n",
        "    label_mode='categorical',\n",
        "    validation_split=0.2,\n",
        "    subset='training',\n",
        "    seed=123,\n",
        "    image_size=IMG_SIZE,\n",
        "    batch_size=BATCH_SIZE\n",
        ")\n",
        "\n",
        "val_ds2 = image_dataset_from_directory(\n",
        "    f\"{path}/images\",\n",
        "    labels='inferred',\n",
        "    label_mode='categorical',\n",
        "    validation_split=0.2,\n",
        "    subset='validation',\n",
        "    seed=123,\n",
        "    image_size=IMG_SIZE,\n",
        "    batch_size=BATCH_SIZE\n",
        ")"
      ]
    },
    {
      "cell_type": "code",
      "execution_count": null,
      "metadata": {
        "execution": {
          "iopub.execute_input": "2025-08-22T05:30:41.713235Z",
          "iopub.status.busy": "2025-08-22T05:30:41.712723Z",
          "iopub.status.idle": "2025-08-22T05:30:41.717315Z",
          "shell.execute_reply": "2025-08-22T05:30:41.716616Z",
          "shell.execute_reply.started": "2025-08-22T05:30:41.713209Z"
        },
        "trusted": true,
        "id": "Z9zY-p10iQ9m"
      },
      "outputs": [],
      "source": [
        "class_names = train_ds2.class_names\n",
        "num_classes = len(class_names)\n",
        "print(f\"총 {num_classes}개의 클래스가 준비되었습니다.\")"
      ]
    },
    {
      "cell_type": "markdown",
      "metadata": {
        "id": "pWX1zlexiQ9n"
      },
      "source": [
        "첫번째 학습"
      ]
    },
    {
      "cell_type": "code",
      "execution_count": null,
      "metadata": {
        "execution": {
          "iopub.execute_input": "2025-08-22T05:31:38.279269Z",
          "iopub.status.busy": "2025-08-22T05:31:38.278981Z",
          "iopub.status.idle": "2025-08-22T05:31:40.530407Z",
          "shell.execute_reply": "2025-08-22T05:31:40.529821Z",
          "shell.execute_reply.started": "2025-08-22T05:31:38.279249Z"
        },
        "trusted": true,
        "id": "gvI4VEuoiQ9o"
      },
      "outputs": [],
      "source": [
        "base_model = EfficientNetB0(\n",
        "    input_shape=IMG_SIZE + (3,),\n",
        "    include_top=False,\n",
        "    weights='imagenet'\n",
        ")"
      ]
    },
    {
      "cell_type": "code",
      "execution_count": null,
      "metadata": {
        "execution": {
          "iopub.execute_input": "2025-08-22T05:31:42.789595Z",
          "iopub.status.busy": "2025-08-22T05:31:42.789032Z",
          "iopub.status.idle": "2025-08-22T05:31:42.795266Z",
          "shell.execute_reply": "2025-08-22T05:31:42.794531Z",
          "shell.execute_reply.started": "2025-08-22T05:31:42.789572Z"
        },
        "trusted": true,
        "id": "_jgXeyb5iQ9p"
      },
      "outputs": [],
      "source": [
        "base_model.trainable = False"
      ]
    },
    {
      "cell_type": "code",
      "execution_count": null,
      "metadata": {
        "execution": {
          "iopub.execute_input": "2025-08-22T05:31:45.598749Z",
          "iopub.status.busy": "2025-08-22T05:31:45.597860Z",
          "iopub.status.idle": "2025-08-22T05:31:45.617396Z",
          "shell.execute_reply": "2025-08-22T05:31:45.616840Z",
          "shell.execute_reply.started": "2025-08-22T05:31:45.598713Z"
        },
        "trusted": true,
        "id": "TT5AverJiQ9p"
      },
      "outputs": [],
      "source": [
        "x = base_model.output\n",
        "x = GlobalAveragePooling2D()(x)\n",
        "x = layers.Dropout(0.4)(x)\n",
        "predictions = Dense(num_classes, activation='softmax')(x)"
      ]
    },
    {
      "cell_type": "code",
      "execution_count": null,
      "metadata": {
        "execution": {
          "iopub.execute_input": "2025-08-22T05:31:47.974751Z",
          "iopub.status.busy": "2025-08-22T05:31:47.974483Z",
          "iopub.status.idle": "2025-08-22T05:31:47.989136Z",
          "shell.execute_reply": "2025-08-22T05:31:47.988371Z",
          "shell.execute_reply.started": "2025-08-22T05:31:47.974731Z"
        },
        "trusted": true,
        "id": "I_tgce8wiQ9q"
      },
      "outputs": [],
      "source": [
        "model = Model(inputs=base_model.input, outputs=predictions)"
      ]
    },
    {
      "cell_type": "code",
      "execution_count": null,
      "metadata": {
        "collapsed": true,
        "execution": {
          "iopub.execute_input": "2025-08-22T05:31:50.327485Z",
          "iopub.status.busy": "2025-08-22T05:31:50.326882Z",
          "iopub.status.idle": "2025-08-22T05:31:50.516718Z",
          "shell.execute_reply": "2025-08-22T05:31:50.516034Z",
          "shell.execute_reply.started": "2025-08-22T05:31:50.327460Z"
        },
        "jupyter": {
          "outputs_hidden": true
        },
        "trusted": true,
        "id": "iWKvnQLViQ9q"
      },
      "outputs": [],
      "source": [
        "model.compile(optimizer='adam',\n",
        "              loss='categorical_crossentropy',\n",
        "              metrics=['accuracy'])\n",
        "\n",
        "model.summary()"
      ]
    },
    {
      "cell_type": "code",
      "execution_count": null,
      "metadata": {
        "execution": {
          "iopub.execute_input": "2025-08-22T05:32:05.687253Z",
          "iopub.status.busy": "2025-08-22T05:32:05.686535Z",
          "iopub.status.idle": "2025-08-22T05:32:05.690809Z",
          "shell.execute_reply": "2025-08-22T05:32:05.690100Z",
          "shell.execute_reply.started": "2025-08-22T05:32:05.687225Z"
        },
        "trusted": true,
        "id": "OeNb-vUIiQ9q"
      },
      "outputs": [],
      "source": [
        "callbacks = [\n",
        "    tf.keras.callbacks.EarlyStopping(\n",
        "        monitor='val_loss',\n",
        "        patience=5,\n",
        "        restore_best_weights=True\n",
        "    )\n",
        "]"
      ]
    },
    {
      "cell_type": "code",
      "execution_count": null,
      "metadata": {
        "execution": {
          "iopub.execute_input": "2025-08-22T05:32:15.582982Z",
          "iopub.status.busy": "2025-08-22T05:32:15.582326Z",
          "iopub.status.idle": "2025-08-22T05:50:42.951631Z",
          "shell.execute_reply": "2025-08-22T05:50:42.951011Z",
          "shell.execute_reply.started": "2025-08-22T05:32:15.582958Z"
        },
        "trusted": true,
        "id": "aFzuQ5KniQ9r"
      },
      "outputs": [],
      "source": [
        "EPOCHS = 20\n",
        "history = model.fit(\n",
        "    train_ds2,\n",
        "    validation_data=val_ds2,\n",
        "    epochs=EPOCHS,\n",
        "    callbacks=callbacks\n",
        ")"
      ]
    },
    {
      "cell_type": "code",
      "execution_count": null,
      "metadata": {
        "execution": {
          "iopub.execute_input": "2025-08-22T06:00:05.652667Z",
          "iopub.status.busy": "2025-08-22T06:00:05.652399Z",
          "iopub.status.idle": "2025-08-22T06:00:28.305546Z",
          "shell.execute_reply": "2025-08-22T06:00:28.304911Z",
          "shell.execute_reply.started": "2025-08-22T06:00:05.652646Z"
        },
        "trusted": true,
        "id": "scX4CW0piQ9r"
      },
      "outputs": [],
      "source": [
        "val_loss, val_acc=model.evaluate(val_ds2)"
      ]
    },
    {
      "cell_type": "code",
      "execution_count": null,
      "metadata": {
        "execution": {
          "iopub.execute_input": "2025-08-22T06:00:31.885803Z",
          "iopub.status.busy": "2025-08-22T06:00:31.885474Z",
          "iopub.status.idle": "2025-08-22T06:00:31.889958Z",
          "shell.execute_reply": "2025-08-22T06:00:31.889348Z",
          "shell.execute_reply.started": "2025-08-22T06:00:31.885782Z"
        },
        "trusted": true,
        "id": "LVF-aAiJiQ9r"
      },
      "outputs": [],
      "source": [
        "print(f\"테스트 데이터셋의 손실(Loss): {val_loss:.4f}\")\n",
        "print(f\"테스트 데이터셋의 정확도(Accuracy): {val_acc:.4f}\")"
      ]
    },
    {
      "cell_type": "code",
      "execution_count": null,
      "metadata": {
        "execution": {
          "iopub.execute_input": "2025-08-22T06:01:44.531206Z",
          "iopub.status.busy": "2025-08-22T06:01:44.530560Z",
          "iopub.status.idle": "2025-08-22T06:01:45.049164Z",
          "shell.execute_reply": "2025-08-22T06:01:45.048439Z",
          "shell.execute_reply.started": "2025-08-22T06:01:44.531183Z"
        },
        "trusted": true,
        "id": "E_jtKOZKiQ9r"
      },
      "outputs": [],
      "source": [
        "plt.figure(figsize=(10, 5))\n",
        "plt.subplot(1, 2, 1)\n",
        "plt.plot(history.history['accuracy'], label='Training Accuracy')\n",
        "plt.plot(history.history['val_accuracy'], label='Validation Accuracy')\n",
        "plt.legend(loc='lower right')\n",
        "plt.title('Training and Validation Accuracy')\n",
        "\n",
        "plt.subplot(1, 2, 2)\n",
        "plt.plot(history.history['loss'], label='Training Loss')\n",
        "plt.plot(history.history['val_loss'], label='Validation Loss')\n",
        "plt.legend(loc='upper right')\n",
        "plt.title('Training and Validation Loss')\n",
        "plt.savefig('efficientnet1.png')\n",
        "plt.show()"
      ]
    },
    {
      "cell_type": "markdown",
      "metadata": {
        "id": "g4mpW1XxiQ9s"
      },
      "source": [
        "미세 조정"
      ]
    },
    {
      "cell_type": "code",
      "execution_count": null,
      "metadata": {
        "execution": {
          "iopub.execute_input": "2025-08-22T07:44:19.706309Z",
          "iopub.status.busy": "2025-08-22T07:44:19.705826Z",
          "iopub.status.idle": "2025-08-22T07:44:20.635691Z",
          "shell.execute_reply": "2025-08-22T07:44:20.635161Z",
          "shell.execute_reply.started": "2025-08-22T07:44:19.706287Z"
        },
        "trusted": true,
        "id": "ImAcEwU9iQ9s"
      },
      "outputs": [],
      "source": [
        "base_model.trainable = True\n",
        "\n",
        "\n",
        "fine_tune_at = -20\n",
        "for layer in base_model.layers[:fine_tune_at]:\n",
        "    layer.trainable = False\n",
        "\n",
        "\n",
        "model.compile(optimizer=tf.keras.optimizers.Adam(learning_rate=0.00001),\n",
        "              loss='categorical_crossentropy',\n",
        "              metrics=['accuracy'])\n",
        "\n",
        "callbacks2 = [\n",
        "    EarlyStopping(\n",
        "        monitor='val_loss',\n",
        "        patience=5,\n",
        "        restore_best_weights=True\n",
        "    ),\n",
        "    ReduceLROnPlateau(\n",
        "        monitor='val_loss',\n",
        "        factor=0.2,\n",
        "        patience=3,\n",
        "        min_lr=0.000001\n",
        "    )\n",
        "]"
      ]
    },
    {
      "cell_type": "code",
      "execution_count": null,
      "metadata": {
        "execution": {
          "iopub.execute_input": "2025-08-22T07:46:36.876376Z",
          "iopub.status.busy": "2025-08-22T07:46:36.876117Z",
          "iopub.status.idle": "2025-08-22T07:47:21.007545Z",
          "shell.execute_reply": "2025-08-22T07:47:21.006538Z",
          "shell.execute_reply.started": "2025-08-22T07:46:36.876358Z"
        },
        "trusted": true,
        "id": "nFpU76UfiQ9s"
      },
      "outputs": [],
      "source": [
        "history_fine_tune = model.fit(\n",
        "    train_ds2,\n",
        "    validation_data=val_ds2,\n",
        "    epochs=50,\n",
        "    callbacks=callbacks2\n",
        ")"
      ]
    },
    {
      "cell_type": "code",
      "execution_count": null,
      "metadata": {
        "execution": {
          "iopub.execute_input": "2025-08-22T07:45:41.757510Z",
          "iopub.status.busy": "2025-08-22T07:45:41.757003Z",
          "iopub.status.idle": "2025-08-22T07:46:15.870952Z",
          "shell.execute_reply": "2025-08-22T07:46:15.870248Z",
          "shell.execute_reply.started": "2025-08-22T07:45:41.757488Z"
        },
        "trusted": true,
        "id": "EzJIJdPqiQ9s"
      },
      "outputs": [],
      "source": [
        "val_loss, val_acc=model.evaluate(val_ds2)\n",
        "print(f\"테스트 데이터셋의 손실(Loss): {val_loss:.4f}\")\n",
        "print(f\"테스트 데이터셋의 정확도(Accuracy): {val_acc:.4f}\")"
      ]
    },
    {
      "cell_type": "code",
      "execution_count": null,
      "metadata": {
        "execution": {
          "iopub.execute_input": "2025-08-22T07:46:18.878116Z",
          "iopub.status.busy": "2025-08-22T07:46:18.877402Z",
          "iopub.status.idle": "2025-08-22T07:46:19.004241Z",
          "shell.execute_reply": "2025-08-22T07:46:19.003338Z",
          "shell.execute_reply.started": "2025-08-22T07:46:18.878088Z"
        },
        "trusted": true,
        "id": "xwFzTJaBiQ9t"
      },
      "outputs": [],
      "source": [
        "plt.figure(figsize=(10, 5))\n",
        "plt.subplot(1, 2, 1)\n",
        "plt.plot(history_fine_tune.history['accuracy'], label='Training Accuracy')\n",
        "plt.plot(history_fine_tune.history['val_accuracy'], label='Validation Accuracy')\n",
        "plt.legend(loc='lower right')\n",
        "plt.title('Training and Validation Accuracy')\n",
        "\n",
        "plt.subplot(1, 2, 2)\n",
        "plt.plot(history_fine_tune.history['loss'], label='Training Loss')\n",
        "plt.plot(history_fine_tune.history['val_loss'], label='Validation Loss')\n",
        "plt.legend(loc='upper right')\n",
        "plt.title('Training and Validation Loss')\n",
        "plt.savefig('efficientnet1.png')\n",
        "plt.show()"
      ]
    },
    {
      "cell_type": "code",
      "execution_count": null,
      "metadata": {
        "trusted": true,
        "id": "iCYK-VOZiQ9t"
      },
      "outputs": [],
      "source": [
        "model.save('model_efB0.h5')"
      ]
    },
    {
      "cell_type": "code",
      "source": [],
      "metadata": {
        "id": "ZcYZyXYMh9y5"
      },
      "execution_count": null,
      "outputs": []
    },
    {
      "cell_type": "code",
      "source": [],
      "metadata": {
        "id": "9TAATTWTh9mi"
      },
      "execution_count": null,
      "outputs": []
    }
  ],
  "metadata": {
    "kaggle": {
      "accelerator": "nvidiaTeslaT4",
      "dataSources": [
        {
          "databundleVersionId": 34793,
          "datasetId": 1864,
          "isSourceIdPinned": false,
          "sourceId": 33884,
          "sourceType": "datasetVersion"
        },
        {
          "databundleVersionId": 13465826,
          "modelInstanceId": 415340,
          "sourceId": 531638,
          "sourceType": "modelInstanceVersion"
        }
      ],
      "dockerImageVersionId": 31090,
      "isGpuEnabled": true,
      "isInternetEnabled": true,
      "language": "python",
      "sourceType": "notebook"
    },
    "kernelspec": {
      "display_name": "Python 3",
      "name": "python3"
    },
    "language_info": {
      "codemirror_mode": {
        "name": "ipython",
        "version": 3
      },
      "file_extension": ".py",
      "mimetype": "text/x-python",
      "name": "python",
      "nbconvert_exporter": "python",
      "pygments_lexer": "ipython3",
      "version": "3.11.13"
    },
    "colab": {
      "provenance": [],
      "gpuType": "T4"
    },
    "accelerator": "GPU"
  },
  "nbformat": 4,
  "nbformat_minor": 0
}