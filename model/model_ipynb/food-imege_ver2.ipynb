{
 "cells": [
  {
   "cell_type": "code",
   "execution_count": null,
   "metadata": {
    "execution": {
     "iopub.execute_input": "2025-08-22T02:47:26.577707Z",
     "iopub.status.busy": "2025-08-22T02:47:26.577139Z",
     "iopub.status.idle": "2025-08-22T02:47:40.802370Z",
     "shell.execute_reply": "2025-08-22T02:47:40.801780Z",
     "shell.execute_reply.started": "2025-08-22T02:47:26.577679Z"
    },
    "trusted": true
   },
   "outputs": [
    {
     "name": "stderr",
     "output_type": "stream",
     "text": [
      "2025-08-22 02:47:28.329695: E external/local_xla/xla/stream_executor/cuda/cuda_fft.cc:477] Unable to register cuFFT factory: Attempting to register factory for plugin cuFFT when one has already been registered\n",
      "WARNING: All log messages before absl::InitializeLog() is called are written to STDERR\n",
      "E0000 00:00:1755830848.533815      36 cuda_dnn.cc:8310] Unable to register cuDNN factory: Attempting to register factory for plugin cuDNN when one has already been registered\n",
      "E0000 00:00:1755830848.603954      36 cuda_blas.cc:1418] Unable to register cuBLAS factory: Attempting to register factory for plugin cuBLAS when one has already been registered\n"
     ]
    }
   ],
   "source": [
    "import tensorflow as tf\n",
    "from tensorflow import keras\n",
    "from tensorflow.keras.preprocessing import image_dataset_from_directory\n",
    "from tensorflow.keras.applications import MobileNetV2\n",
    "from tensorflow.keras.models import Model\n",
    "from tensorflow.keras.layers import Dense, GlobalAveragePooling2D, Dropout\n",
    "import matplotlib.pyplot as plt\n",
    "import numpy as np\n",
    "import kagglehub"
   ]
  },
  {
   "cell_type": "code",
   "execution_count": 3,
   "metadata": {
    "execution": {
     "iopub.execute_input": "2025-08-22T02:47:40.804002Z",
     "iopub.status.busy": "2025-08-22T02:47:40.803478Z",
     "iopub.status.idle": "2025-08-22T02:47:40.981645Z",
     "shell.execute_reply": "2025-08-22T02:47:40.980993Z",
     "shell.execute_reply.started": "2025-08-22T02:47:40.803983Z"
    },
    "trusted": true
   },
   "outputs": [
    {
     "name": "stdout",
     "output_type": "stream",
     "text": [
      "Path to dataset files: /kaggle/input/food41\n"
     ]
    }
   ],
   "source": [
    "path = kagglehub.dataset_download(\"kmader/food41\")\n",
    "print(\"Path to dataset files:\", path)"
   ]
  },
  {
   "cell_type": "code",
   "execution_count": 4,
   "metadata": {
    "execution": {
     "iopub.execute_input": "2025-08-22T02:47:47.909850Z",
     "iopub.status.busy": "2025-08-22T02:47:47.909288Z",
     "iopub.status.idle": "2025-08-22T02:47:47.913370Z",
     "shell.execute_reply": "2025-08-22T02:47:47.912639Z",
     "shell.execute_reply.started": "2025-08-22T02:47:47.909823Z"
    },
    "trusted": true
   },
   "outputs": [],
   "source": [
    "IMG_SIZE = (224, 224)\n",
    "BATCH_SIZE = 32"
   ]
  },
  {
   "cell_type": "code",
   "execution_count": 5,
   "metadata": {
    "execution": {
     "iopub.execute_input": "2025-08-22T02:47:49.984468Z",
     "iopub.status.busy": "2025-08-22T02:47:49.984167Z",
     "iopub.status.idle": "2025-08-22T02:49:24.029361Z",
     "shell.execute_reply": "2025-08-22T02:49:24.028578Z",
     "shell.execute_reply.started": "2025-08-22T02:47:49.984445Z"
    },
    "trusted": true
   },
   "outputs": [
    {
     "name": "stdout",
     "output_type": "stream",
     "text": [
      "Found 101000 files belonging to 101 classes.\n",
      "Using 80800 files for training.\n"
     ]
    },
    {
     "name": "stderr",
     "output_type": "stream",
     "text": [
      "I0000 00:00:1755830946.115765      36 gpu_device.cc:2022] Created device /job:localhost/replica:0/task:0/device:GPU:0 with 13942 MB memory:  -> device: 0, name: Tesla T4, pci bus id: 0000:00:04.0, compute capability: 7.5\n",
      "I0000 00:00:1755830946.116426      36 gpu_device.cc:2022] Created device /job:localhost/replica:0/task:0/device:GPU:1 with 13942 MB memory:  -> device: 1, name: Tesla T4, pci bus id: 0000:00:05.0, compute capability: 7.5\n"
     ]
    },
    {
     "name": "stdout",
     "output_type": "stream",
     "text": [
      "Found 101000 files belonging to 101 classes.\n",
      "Using 20200 files for validation.\n"
     ]
    }
   ],
   "source": [
    "train_dataset = image_dataset_from_directory(\n",
    "    f\"{path}/images\",\n",
    "    labels='inferred',\n",
    "    validation_split=0.2, # 전체 데이터의 20%를 검증용으로 사용\n",
    "    subset='training',\n",
    "    seed=123,\n",
    "    image_size=IMG_SIZE,\n",
    "    batch_size=BATCH_SIZE\n",
    ")\n",
    "\n",
    "validation_dataset = image_dataset_from_directory(\n",
    "    f\"{path}/images\",\n",
    "    labels='inferred',\n",
    "    validation_split=0.2,\n",
    "    subset='validation',\n",
    "    seed=123,\n",
    "    image_size=IMG_SIZE,\n",
    "    batch_size=BATCH_SIZE\n",
    ")"
   ]
  },
  {
   "cell_type": "code",
   "execution_count": 6,
   "metadata": {
    "execution": {
     "iopub.execute_input": "2025-08-22T02:49:24.031136Z",
     "iopub.status.busy": "2025-08-22T02:49:24.030799Z",
     "iopub.status.idle": "2025-08-22T02:49:24.035388Z",
     "shell.execute_reply": "2025-08-22T02:49:24.034674Z",
     "shell.execute_reply.started": "2025-08-22T02:49:24.031111Z"
    },
    "trusted": true
   },
   "outputs": [
    {
     "name": "stdout",
     "output_type": "stream",
     "text": [
      "총 101개의 클래스가 준비되었습니다.\n"
     ]
    }
   ],
   "source": [
    "class_names = train_dataset.class_names\n",
    "num_classes = len(class_names)\n",
    "print(f\"총 {num_classes}개의 클래스가 준비되었습니다.\")"
   ]
  },
  {
   "cell_type": "code",
   "execution_count": 8,
   "metadata": {
    "execution": {
     "iopub.execute_input": "2025-08-22T02:49:34.673059Z",
     "iopub.status.busy": "2025-08-22T02:49:34.672738Z",
     "iopub.status.idle": "2025-08-22T02:49:36.595124Z",
     "shell.execute_reply": "2025-08-22T02:49:36.594558Z",
     "shell.execute_reply.started": "2025-08-22T02:49:34.673038Z"
    },
    "trusted": true
   },
   "outputs": [
    {
     "name": "stdout",
     "output_type": "stream",
     "text": [
      "Downloading data from https://storage.googleapis.com/tensorflow/keras-applications/mobilenet_v2/mobilenet_v2_weights_tf_dim_ordering_tf_kernels_1.0_224_no_top.h5\n",
      "\u001b[1m9406464/9406464\u001b[0m \u001b[32m━━━━━━━━━━━━━━━━━━━━\u001b[0m\u001b[37m\u001b[0m \u001b[1m0s\u001b[0m 0us/step\n"
     ]
    }
   ],
   "source": [
    "base_model = MobileNetV2(\n",
    "    input_shape=IMG_SIZE + (3,),\n",
    "    include_top=False,\n",
    "    weights='imagenet'\n",
    ")\n",
    "base_model.trainable = True"
   ]
  },
  {
   "cell_type": "code",
   "execution_count": 9,
   "metadata": {
    "execution": {
     "iopub.execute_input": "2025-08-22T02:49:39.548778Z",
     "iopub.status.busy": "2025-08-22T02:49:39.548163Z",
     "iopub.status.idle": "2025-08-22T02:49:39.579964Z",
     "shell.execute_reply": "2025-08-22T02:49:39.579396Z",
     "shell.execute_reply.started": "2025-08-22T02:49:39.548753Z"
    },
    "trusted": true
   },
   "outputs": [],
   "source": [
    "x = base_model.output\n",
    "x = GlobalAveragePooling2D()(x)\n",
    "x = Dense(512, activation='relu')(x)\n",
    "predictions = Dense(num_classes, activation='softmax')(x)\n",
    "model = Model(inputs=base_model.input, outputs=predictions)"
   ]
  },
  {
   "cell_type": "code",
   "execution_count": null,
   "metadata": {
    "execution": {
     "iopub.execute_input": "2025-08-22T02:49:43.859693Z",
     "iopub.status.busy": "2025-08-22T02:49:43.859118Z",
     "iopub.status.idle": "2025-08-22T02:49:43.874190Z",
     "shell.execute_reply": "2025-08-22T02:49:43.873562Z",
     "shell.execute_reply.started": "2025-08-22T02:49:43.859669Z"
    },
    "trusted": true
   },
   "outputs": [],
   "source": [
    "model.compile(\n",
    "    optimizer=tf.keras.optimizers.Adam(learning_rate=1e-5), # 학습률을 0.00001로 설정\n",
    "    loss=tf.keras.losses.SparseCategoricalCrossentropy(),\n",
    "    metrics=['accuracy']\n",
    ")\n",
    "epochs = 20\n",
    "\n",
    "\n",
    "callbacks = [\n",
    "    tf.keras.callbacks.EarlyStopping(\n",
    "        monitor='val_loss',\n",
    "        patience=3,\n",
    "        restore_best_weights=True\n",
    "    )\n",
    "]"
   ]
  },
  {
   "cell_type": "code",
   "execution_count": null,
   "metadata": {
    "execution": {
     "iopub.execute_input": "2025-08-22T02:52:21.133597Z",
     "iopub.status.busy": "2025-08-22T02:52:21.133073Z",
     "iopub.status.idle": "2025-08-22T03:59:40.171939Z",
     "shell.execute_reply": "2025-08-22T03:59:40.171182Z",
     "shell.execute_reply.started": "2025-08-22T02:52:21.133576Z"
    },
    "trusted": true
   },
   "outputs": [
    {
     "name": "stdout",
     "output_type": "stream",
     "text": [
      "Epoch 1/20\n",
      "\u001b[1m2525/2525\u001b[0m \u001b[32m━━━━━━━━━━━━━━━━━━━━\u001b[0m\u001b[37m\u001b[0m \u001b[1m311s\u001b[0m 123ms/step - accuracy: 0.2780 - loss: 3.3834 - val_accuracy: 0.5018 - val_loss: 2.0764\n",
      "Epoch 2/20\n",
      "\u001b[1m2525/2525\u001b[0m \u001b[32m━━━━━━━━━━━━━━━━━━━━\u001b[0m\u001b[37m\u001b[0m \u001b[1m288s\u001b[0m 114ms/step - accuracy: 0.5298 - loss: 1.9207 - val_accuracy: 0.5988 - val_loss: 1.6052\n",
      "Epoch 3/20\n",
      "\u001b[1m2525/2525\u001b[0m \u001b[32m━━━━━━━━━━━━━━━━━━━━\u001b[0m\u001b[37m\u001b[0m \u001b[1m288s\u001b[0m 114ms/step - accuracy: 0.6156 - loss: 1.5185 - val_accuracy: 0.6412 - val_loss: 1.4099\n",
      "Epoch 4/20\n",
      "\u001b[1m2525/2525\u001b[0m \u001b[32m━━━━━━━━━━━━━━━━━━━━\u001b[0m\u001b[37m\u001b[0m \u001b[1m288s\u001b[0m 114ms/step - accuracy: 0.6625 - loss: 1.3057 - val_accuracy: 0.6635 - val_loss: 1.3050\n",
      "Epoch 5/20\n",
      "\u001b[1m2525/2525\u001b[0m \u001b[32m━━━━━━━━━━━━━━━━━━━━\u001b[0m\u001b[37m\u001b[0m \u001b[1m287s\u001b[0m 114ms/step - accuracy: 0.6996 - loss: 1.1566 - val_accuracy: 0.6816 - val_loss: 1.2271\n",
      "Epoch 6/20\n",
      "\u001b[1m2525/2525\u001b[0m \u001b[32m━━━━━━━━━━━━━━━━━━━━\u001b[0m\u001b[37m\u001b[0m \u001b[1m286s\u001b[0m 113ms/step - accuracy: 0.7246 - loss: 1.0393 - val_accuracy: 0.6934 - val_loss: 1.1776\n",
      "Epoch 7/20\n",
      "\u001b[1m2525/2525\u001b[0m \u001b[32m━━━━━━━━━━━━━━━━━━━━\u001b[0m\u001b[37m\u001b[0m \u001b[1m285s\u001b[0m 113ms/step - accuracy: 0.7491 - loss: 0.9436 - val_accuracy: 0.7008 - val_loss: 1.1440\n",
      "Epoch 8/20\n",
      "\u001b[1m2525/2525\u001b[0m \u001b[32m━━━━━━━━━━━━━━━━━━━━\u001b[0m\u001b[37m\u001b[0m \u001b[1m285s\u001b[0m 113ms/step - accuracy: 0.7701 - loss: 0.8597 - val_accuracy: 0.7072 - val_loss: 1.1157\n",
      "Epoch 9/20\n",
      "\u001b[1m2525/2525\u001b[0m \u001b[32m━━━━━━━━━━━━━━━━━━━━\u001b[0m\u001b[37m\u001b[0m \u001b[1m285s\u001b[0m 113ms/step - accuracy: 0.7916 - loss: 0.7811 - val_accuracy: 0.7119 - val_loss: 1.1020\n",
      "Epoch 10/20\n",
      "\u001b[1m2525/2525\u001b[0m \u001b[32m━━━━━━━━━━━━━━━━━━━━\u001b[0m\u001b[37m\u001b[0m \u001b[1m287s\u001b[0m 114ms/step - accuracy: 0.8095 - loss: 0.7154 - val_accuracy: 0.7150 - val_loss: 1.0889\n",
      "Epoch 11/20\n",
      "\u001b[1m2525/2525\u001b[0m \u001b[32m━━━━━━━━━━━━━━━━━━━━\u001b[0m\u001b[37m\u001b[0m \u001b[1m288s\u001b[0m 114ms/step - accuracy: 0.8281 - loss: 0.6497 - val_accuracy: 0.7177 - val_loss: 1.0831\n",
      "Epoch 12/20\n",
      "\u001b[1m2525/2525\u001b[0m \u001b[32m━━━━━━━━━━━━━━━━━━━━\u001b[0m\u001b[37m\u001b[0m \u001b[1m286s\u001b[0m 113ms/step - accuracy: 0.8435 - loss: 0.5943 - val_accuracy: 0.7170 - val_loss: 1.0843\n",
      "Epoch 13/20\n",
      "\u001b[1m2525/2525\u001b[0m \u001b[32m━━━━━━━━━━━━━━━━━━━━\u001b[0m\u001b[37m\u001b[0m \u001b[1m286s\u001b[0m 113ms/step - accuracy: 0.8576 - loss: 0.5392 - val_accuracy: 0.7185 - val_loss: 1.0836\n",
      "Epoch 14/20\n",
      "\u001b[1m2525/2525\u001b[0m \u001b[32m━━━━━━━━━━━━━━━━━━━━\u001b[0m\u001b[37m\u001b[0m \u001b[1m287s\u001b[0m 114ms/step - accuracy: 0.8742 - loss: 0.4880 - val_accuracy: 0.7210 - val_loss: 1.0850\n"
     ]
    }
   ],
   "source": [
    "history= model.fit(\n",
    "    train_dataset,\n",
    "    validation_data=validation_dataset,\n",
    "    epochs=epochs2,\n",
    "    callbacks=callbacks\n",
    ")"
   ]
  },
  {
   "cell_type": "code",
   "execution_count": null,
   "metadata": {
    "execution": {
     "iopub.execute_input": "2025-08-22T04:03:14.014804Z",
     "iopub.status.busy": "2025-08-22T04:03:14.014161Z",
     "iopub.status.idle": "2025-08-22T04:03:32.026315Z",
     "shell.execute_reply": "2025-08-22T04:03:32.025758Z",
     "shell.execute_reply.started": "2025-08-22T04:03:14.014780Z"
    },
    "trusted": true
   },
   "outputs": [
    {
     "name": "stdout",
     "output_type": "stream",
     "text": [
      "\u001b[1m632/632\u001b[0m \u001b[32m━━━━━━━━━━━━━━━━━━━━\u001b[0m\u001b[37m\u001b[0m \u001b[1m18s\u001b[0m 28ms/step - accuracy: 0.7171 - loss: 1.0922\n",
      "테스트 데이터셋의 손실(Loss): 1.0831\n",
      "테스트 데이터셋의 정확도(Accuracy): 0.7177\n"
     ]
    }
   ],
   "source": [
    "val_loss, val_acc=model.evaluate(validation_dataset)\n",
    "print(f\"테스트 데이터셋의 손실(Loss): {val_loss:.4f}\")\n",
    "print(f\"테스트 데이터셋의 정확도(Accuracy): {val_acc:.4f}\")"
   ]
  },
  {
   "cell_type": "code",
   "execution_count": null,
   "metadata": {
    "execution": {
     "iopub.execute_input": "2025-08-22T04:03:43.789582Z",
     "iopub.status.busy": "2025-08-22T04:03:43.789088Z",
     "iopub.status.idle": "2025-08-22T04:03:44.215677Z",
     "shell.execute_reply": "2025-08-22T04:03:44.214990Z",
     "shell.execute_reply.started": "2025-08-22T04:03:43.789558Z"
    },
    "trusted": true
   },
   "outputs": [
    {
     "data": {
      "image/png": "[encoded data removed]",
      "text/plain": [
       "<Figure size 1000x500 with 2 Axes>"
      ]
     },
     "metadata": {},
     "output_type": "display_data"
    }
   ],
   "source": [
    "plt.figure(figsize=(10, 5))\n",
    "plt.subplot(1, 2, 1)\n",
    "plt.plot(history.history['accuracy'], label='Training Accuracy')\n",
    "plt.plot(history.history['val_accuracy'], label='Validation Accuracy')\n",
    "plt.legend(loc='lower right')\n",
    "plt.title('Training and Validation Accuracy')\n",
    "\n",
    "plt.subplot(1, 2, 2)\n",
    "plt.plot(history.history['loss'], label='Training Loss')\n",
    "plt.plot(history.history['val_loss'], label='Validation Loss')\n",
    "plt.legend(loc='upper right')\n",
    "plt.title('Training and Validation Loss')\n",
    "plt.show()"
   ]
  },
  {
   "cell_type": "code",
   "execution_count": 15,
   "metadata": {
    "execution": {
     "iopub.execute_input": "2025-08-22T04:03:50.612602Z",
     "iopub.status.busy": "2025-08-22T04:03:50.612305Z",
     "iopub.status.idle": "2025-08-22T04:03:51.147402Z",
     "shell.execute_reply": "2025-08-22T04:03:51.146801Z",
     "shell.execute_reply.started": "2025-08-22T04:03:50.612579Z"
    },
    "trusted": true
   },
   "outputs": [],
   "source": [
    "model.save('food_classifier_mbnetv2.h5')"
   ]
  },
  {
   "cell_type": "code",
   "execution_count": null,
   "metadata": {},
   "outputs": [],
   "source": [
    "data_augmentation = tf.keras.Sequential([\n",
    "    tf.keras.layers.RandomFlip(\"horizontal_and_vertical\"), \n",
    "    tf.keras.layers.RandomRotation(0.2), \n",
    "    tf.keras.layers.RandomZoom(0.2),\n",
    "    tf.keras.layers.RandomContrast(0.2), \n",
    "])"
   ]
  },
  {
   "cell_type": "markdown",
   "metadata": {},
   "source": [
    "### 데이터 증강 추가"
   ]
  },
  {
   "cell_type": "code",
   "execution_count": null,
   "metadata": {
    "trusted": true
   },
   "outputs": [],
   "source": [
    "IMG_SIZE = 224\n",
    "num_classes = 101\n",
    "\n",
    "base_model = MobileNetV2(\n",
    "    input_shape=IMG_SIZE + (3,),\n",
    "    include_top=False,\n",
    "    weights='imagenet'\n",
    ")\n",
    "base_model.trainable = True"
   ]
  },
  {
   "cell_type": "code",
   "execution_count": null,
   "metadata": {},
   "outputs": [],
   "source": [
    "inputs = tf.keras.Input(shape=(IMG_SIZE, IMG_SIZE, 3))\n",
    "x = data_augmentation(inputs)\n",
    "x = base_model(x, training=True)\n",
    "x = GlobalAveragePooling2D()(x)\n",
    "x = Dense(512, activation='relu')(x)\n",
    "\n",
    "x = Dropout(0.5)(x) \n",
    "predictions = Dense(num_classes, activation='softmax')(x)\n",
    "model = Model(inputs=inputs, outputs=predictions)\n"
   ]
  },
  {
   "cell_type": "code",
   "execution_count": null,
   "metadata": {},
   "outputs": [],
   "source": [
    "model.compile(\n",
    "    optimizer=tf.keras.optimizers.Adam(learning_rate=1e-5),\n",
    "    loss=tf.keras.losses.SparseCategoricalCrossentropy(),\n",
    "    metrics=['accuracy']\n",
    ")"
   ]
  },
  {
   "cell_type": "code",
   "execution_count": null,
   "metadata": {},
   "outputs": [],
   "source": [
    "epochs= 20\n",
    "callbacks = [\n",
    "    tf.keras.callbacks.EarlyStopping(\n",
    "        monitor='val_loss',\n",
    "        patience=5,\n",
    "        restore_best_weights=True\n",
    "    )\n",
    "]\n",
    "\n",
    "history = model.fit(\n",
    "    train_dataset,\n",
    "    validation_data=validation_dataset,\n",
    "    epochs=epochs,\n",
    "    callbacks=callbacks\n",
    ")"
   ]
  }
 ],
 "metadata": {
  "kaggle": {
   "accelerator": "nvidiaTeslaT4",
   "dataSources": [
    {
     "datasetId": 1864,
     "sourceId": 33884,
     "sourceType": "datasetVersion"
    }
   ],
   "dockerImageVersionId": 31090,
   "isGpuEnabled": true,
   "isInternetEnabled": true,
   "language": "python",
   "sourceType": "notebook"
  },
  "kernelspec": {
   "display_name": "Python 3",
   "language": "python",
   "name": "python3"
  },
  "language_info": {
   "codemirror_mode": {
    "name": "ipython",
    "version": 3
   },
   "file_extension": ".py",
   "mimetype": "text/x-python",
   "name": "python",
   "nbconvert_exporter": "python",
   "pygments_lexer": "ipython3",
   "version": "3.11.13"
  }
 },
 "nbformat": 4,
 "nbformat_minor": 4
}
